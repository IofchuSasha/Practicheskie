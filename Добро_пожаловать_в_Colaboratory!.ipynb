{
  "nbformat": 4,
  "nbformat_minor": 0,
  "metadata": {
    "colab": {
      "name": "Добро пожаловать в Colaboratory!",
      "provenance": [],
      "collapsed_sections": [],
      "include_colab_link": true
    },
    "kernelspec": {
      "display_name": "Python 3",
      "name": "python3"
    }
  },
  "cells": [
    {
      "cell_type": "markdown",
      "metadata": {
        "id": "view-in-github",
        "colab_type": "text"
      },
      "source": [
        "<a href=\"https://colab.research.google.com/github/IofchuSasha/Practicheskie/blob/02%2F04/%D0%94%D0%BE%D0%B1%D1%80%D0%BE_%D0%BF%D0%BE%D0%B6%D0%B0%D0%BB%D0%BE%D0%B2%D0%B0%D1%82%D1%8C_%D0%B2_Colaboratory!.ipynb\" target=\"_parent\"><img src=\"https://colab.research.google.com/assets/colab-badge.svg\" alt=\"Open In Colab\"/></a>"
      ]
    },
    {
      "cell_type": "markdown",
      "metadata": {
        "id": "Hi90MV3trjR5"
      },
      "source": [
        "# Лабораторная1 Иофчу А.С."
      ]
    },
    {
      "cell_type": "markdown",
      "metadata": {
        "id": "7_FvQhBvth7S"
      },
      "source": [
        " **Задание**:Посчитайте размер матрицы Z в байтах и выведите его на печать. Чтобы узнать размер (в байтах) 1 элемента матрицы используйте атрибут https://docs.scipy.org/doc/numpy1.15.1/reference/generated/numpy.ndarray.itemsize.html Примечание. В этой задаче не нужно ничего считывать - матрица Z уже заполнена. Sample Input 1: np.zeros((10,10)) Sample Output 1: 800 Sample Input 2: np.array([1,2,3], dtype=np.float64) Sample Output 2: 24"
      ]
    },
    {
      "cell_type": "code",
      "metadata": {
        "id": "ILA3PKsErs91"
      },
      "source": [
        "import timeit\n",
        "import numpy as np\n",
        "\n",
        "\n",
        "def python(byte):\n",
        "    Z = byte\n",
        "    len(Z)*8\n",
        "\n",
        "\n",
        "def mat(byte):\n",
        "    Z = np.array(byte)\n",
        "    Z.itemsize*Z.size\n",
        "\n",
        "if __name__ == '__main__':\n",
        "    start_time = timeit.default_timer()\n",
        "    python([1, 3, 6, 7, 8])\n",
        "    range_time_1 = timeit.default_timer() - start_time\n",
        "    start_time = timeit.default_timer()\n",
        "    mat([1, 3, 6, 7, 8])\n",
        "    arange_time_1 = timeit.default_timer() - start_time\n",
        "\n",
        "    start_time = timeit.default_timer()\n",
        "    python(np.zeros((10, 10)))\n",
        "    range_time_2 = timeit.default_timer() - start_time\n",
        "\n",
        "    start_time = timeit.default_timer()\n",
        "    mat(np.zeros((10, 10)))\n",
        "    arange_time_2 = timeit.default_timer() - start_time"
      ],
      "execution_count": 8,
      "outputs": []
    },
    {
      "cell_type": "code",
      "metadata": {
        "id": "WcEJft0xrtF8",
        "outputId": "e1750b50-e75f-49d5-8ad7-77e49ce3c242",
        "colab": {
          "base_uri": "https://localhost:8080/"
        }
      },
      "source": [
        "Z=np.zeros((10,10))\n",
        "Z.itemsize*Z.size"
      ],
      "execution_count": 12,
      "outputs": [
        {
          "output_type": "execute_result",
          "data": {
            "text/plain": [
              "800"
            ]
          },
          "metadata": {
            "tags": []
          },
          "execution_count": 12
        }
      ]
    },
    {
      "cell_type": "code",
      "metadata": {
        "id": "5iLmDGU0tyH1",
        "outputId": "361c1335-ee31-4e1e-8846-d5dc20a6b064",
        "colab": {
          "base_uri": "https://localhost:8080/"
        }
      },
      "source": [
        "Z=np.array([1,2,3], dtype=np.float64)\n",
        "Z.itemsize*Z.size"
      ],
      "execution_count": 13,
      "outputs": [
        {
          "output_type": "execute_result",
          "data": {
            "text/plain": [
              "24"
            ]
          },
          "metadata": {
            "tags": []
          },
          "execution_count": 13
        }
      ]
    },
    {
      "cell_type": "code",
      "metadata": {
        "id": "iQ-Ln6rvt3fc",
        "outputId": "e8f1368c-b5b5-45c3-e9ae-c41b40643f09",
        "colab": {
          "base_uri": "https://localhost:8080/"
        }
      },
      "source": [
        "print('Array [1, 3, 6, 7, 8]')\n",
        "print(f'size of array [1, 3, 6, 7, 8]: range() время {range_time_1}')\n",
        "print(f'size of array [1, 3, 6, 7, 8] arange() время {arange_time_1}')\n",
        " \n",
        "print('Array 10×10')\n",
        "print(f'size of array 10×10: range() время {range_time_2}')\n",
        "print(f'size of array 10×10: arange() время {arange_time_2}')\n"
      ],
      "execution_count": 14,
      "outputs": [
        {
          "output_type": "stream",
          "text": [
            "Array [1, 3, 6, 7, 8]\n",
            "size of array [1, 3, 6, 7, 8]: range() время 2.80800031760009e-06\n",
            "size of array [1, 3, 6, 7, 8] arange() время 0.00018835399987437995\n",
            "Array 10×10\n",
            "size of array 10×10: range() время 2.1537000066018663e-05\n",
            "size of array 10×10: arange() время 6.232799978533876e-05\n"
          ],
          "name": "stdout"
        }
      ]
    }
  ]
}