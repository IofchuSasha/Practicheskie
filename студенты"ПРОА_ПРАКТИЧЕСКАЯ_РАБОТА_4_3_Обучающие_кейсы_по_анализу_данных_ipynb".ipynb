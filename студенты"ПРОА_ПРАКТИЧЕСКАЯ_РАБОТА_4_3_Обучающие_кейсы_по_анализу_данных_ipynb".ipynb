{
  "nbformat": 4,
  "nbformat_minor": 0,
  "metadata": {
    "colab": {
      "name": "студенты\"ПРОА ПРАКТИЧЕСКАЯ РАБОТА 4-3 Обучающие кейсы по анализу данных.ipynb\"",
      "provenance": [],
      "collapsed_sections": [
        "w-W57tINVC2z"
      ],
      "include_colab_link": true
    },
    "kernelspec": {
      "name": "python3",
      "display_name": "Python 3"
    },
    "language_info": {
      "name": "python"
    }
  },
  "cells": [
    {
      "cell_type": "markdown",
      "metadata": {
        "id": "view-in-github",
        "colab_type": "text"
      },
      "source": [
        "<a href=\"https://colab.research.google.com/github/IofchuSasha/Practicheskie/blob/02%2F04/%D1%81%D1%82%D1%83%D0%B4%D0%B5%D0%BD%D1%82%D1%8B%22%D0%9F%D0%A0%D0%9E%D0%90_%D0%9F%D0%A0%D0%90%D0%9A%D0%A2%D0%98%D0%A7%D0%95%D0%A1%D0%9A%D0%90%D0%AF_%D0%A0%D0%90%D0%91%D0%9E%D0%A2%D0%90_4_3_%D0%9E%D0%B1%D1%83%D1%87%D0%B0%D1%8E%D1%89%D0%B8%D0%B5_%D0%BA%D0%B5%D0%B9%D1%81%D1%8B_%D0%BF%D0%BE_%D0%B0%D0%BD%D0%B0%D0%BB%D0%B8%D0%B7%D1%83_%D0%B4%D0%B0%D0%BD%D0%BD%D1%8B%D1%85_ipynb%22.ipynb\" target=\"_parent\"><img src=\"https://colab.research.google.com/assets/colab-badge.svg\" alt=\"Open In Colab\"/></a>"
      ]
    },
    {
      "cell_type": "markdown",
      "metadata": {
        "id": "y35IK1tKOHFo"
      },
      "source": [
        "## **Вариант 22**"
      ]
    },
    {
      "cell_type": "code",
      "metadata": {
        "id": "HUyaKVClN7jD"
      },
      "source": [
        "#importing the libraries\n",
        "import requests\n",
        "import pandas as pd\n",
        "import seaborn as sns\n",
        "import matplotlib.pyplot as plt\n",
        "#Importing the data from the webpage into a DataFrame\n",
        "url='https://en.wikipedia.org/wiki/List_of_highest-grossing_superhero_films'\n",
        "req=requests.get(url)\n",
        "data=pd.read_html(req.text)\n",
        "df=data[2]"
      ],
      "execution_count": 47,
      "outputs": []
    },
    {
      "cell_type": "markdown",
      "metadata": {
        "id": "EY3gw9kpPTb3"
      },
      "source": [
        "\n",
        "Изучаем  первые 5 записей: "
      ]
    },
    {
      "cell_type": "code",
      "metadata": {
        "id": "A336U7_sOZ_D",
        "colab": {
          "base_uri": "https://localhost:8080/",
          "height": 206
        },
        "outputId": "8f719d7b-2f12-48ae-d0c7-256d42e17b0b"
      },
      "source": [
        "df.head()"
      ],
      "execution_count": 48,
      "outputs": [
        {
          "output_type": "execute_result",
          "data": {
            "text/html": [
              "<div>\n",
              "<style scoped>\n",
              "    .dataframe tbody tr th:only-of-type {\n",
              "        vertical-align: middle;\n",
              "    }\n",
              "\n",
              "    .dataframe tbody tr th {\n",
              "        vertical-align: top;\n",
              "    }\n",
              "\n",
              "    .dataframe thead th {\n",
              "        text-align: right;\n",
              "    }\n",
              "</style>\n",
              "<table border=\"1\" class=\"dataframe\">\n",
              "  <thead>\n",
              "    <tr style=\"text-align: right;\">\n",
              "      <th></th>\n",
              "      <th>Film</th>\n",
              "      <th>Worldwide gross</th>\n",
              "      <th>Year</th>\n",
              "      <th>Superhero(es)</th>\n",
              "      <th>Source</th>\n",
              "      <th>Ref</th>\n",
              "    </tr>\n",
              "  </thead>\n",
              "  <tbody>\n",
              "    <tr>\n",
              "      <th>0</th>\n",
              "      <td>Avengers: Endgame</td>\n",
              "      <td>$2,797,800,564</td>\n",
              "      <td>2019</td>\n",
              "      <td>Avengers</td>\n",
              "      <td>Marvel</td>\n",
              "      <td>[1]</td>\n",
              "    </tr>\n",
              "    <tr>\n",
              "      <th>1</th>\n",
              "      <td>Avengers: Infinity War</td>\n",
              "      <td>$2,048,359,754</td>\n",
              "      <td>2018</td>\n",
              "      <td>Avengers</td>\n",
              "      <td>Marvel</td>\n",
              "      <td>[2]</td>\n",
              "    </tr>\n",
              "    <tr>\n",
              "      <th>2</th>\n",
              "      <td>The Avengers</td>\n",
              "      <td>$1,518,812,988</td>\n",
              "      <td>2012</td>\n",
              "      <td>Avengers</td>\n",
              "      <td>Marvel</td>\n",
              "      <td>[3]</td>\n",
              "    </tr>\n",
              "    <tr>\n",
              "      <th>3</th>\n",
              "      <td>Avengers: Age of Ultron</td>\n",
              "      <td>$1,405,403,694</td>\n",
              "      <td>2015</td>\n",
              "      <td>Avengers</td>\n",
              "      <td>Marvel</td>\n",
              "      <td>[4]</td>\n",
              "    </tr>\n",
              "    <tr>\n",
              "      <th>4</th>\n",
              "      <td>Black Panther</td>\n",
              "      <td>$1,346,913,171</td>\n",
              "      <td>2018</td>\n",
              "      <td>Black Panther</td>\n",
              "      <td>Marvel</td>\n",
              "      <td>[5]</td>\n",
              "    </tr>\n",
              "  </tbody>\n",
              "</table>\n",
              "</div>"
            ],
            "text/plain": [
              "                      Film Worldwide gross  Year  Superhero(es)  Source  Ref\n",
              "0        Avengers: Endgame  $2,797,800,564  2019       Avengers  Marvel  [1]\n",
              "1   Avengers: Infinity War  $2,048,359,754  2018       Avengers  Marvel  [2]\n",
              "2             The Avengers  $1,518,812,988  2012       Avengers  Marvel  [3]\n",
              "3  Avengers: Age of Ultron  $1,405,403,694  2015       Avengers  Marvel  [4]\n",
              "4            Black Panther  $1,346,913,171  2018  Black Panther  Marvel  [5]"
            ]
          },
          "metadata": {
            "tags": []
          },
          "execution_count": 48
        }
      ]
    },
    {
      "cell_type": "markdown",
      "metadata": {
        "id": "TcQWoBGJPcsX"
      },
      "source": [
        "Получение типов данных и пропущенных значений:"
      ]
    },
    {
      "cell_type": "code",
      "metadata": {
        "id": "ml-T0-w4PjST",
        "colab": {
          "base_uri": "https://localhost:8080/"
        },
        "outputId": "a4d32171-ba83-44a9-f0b2-8511eaf8b462"
      },
      "source": [
        "df.info()"
      ],
      "execution_count": 51,
      "outputs": [
        {
          "output_type": "stream",
          "text": [
            "<class 'pandas.core.frame.DataFrame'>\n",
            "RangeIndex: 50 entries, 0 to 49\n",
            "Data columns (total 6 columns):\n",
            " #   Column           Non-Null Count  Dtype \n",
            "---  ------           --------------  ----- \n",
            " 0   Film             50 non-null     object\n",
            " 1   Worldwide gross  50 non-null     object\n",
            " 2   Year             50 non-null     int64 \n",
            " 3   Superhero(es)    50 non-null     object\n",
            " 4   Source           50 non-null     object\n",
            " 5   Ref              50 non-null     object\n",
            "dtypes: int64(1), object(5)\n",
            "memory usage: 2.5+ KB\n"
          ],
          "name": "stdout"
        }
      ]
    },
    {
      "cell_type": "markdown",
      "metadata": {
        "id": "zRPAhP-yQxYR"
      },
      "source": [
        "Удалим ненужные строки из столбца **Worldwide gross**, оставив только\n",
        "числовые значения:"
      ]
    },
    {
      "cell_type": "code",
      "metadata": {
        "id": "smvlut1cQyb9"
      },
      "source": [
        "df['Worldwide gross']=df['Worldwide gross'].str.replace(r\"$\",\"\").str.replace(r\",\",\"\")"
      ],
      "execution_count": 54,
      "outputs": []
    },
    {
      "cell_type": "markdown",
      "metadata": {
        "id": "qj63VFn9RBGI"
      },
      "source": [
        " Первая замена\n",
        "метод удаляет «US$», а второй метод замены удаляет запятые. Замена\n",
        "символ с пустой строкой (\"\") эквивалентен удалению символа. Теперь давайте используем метод **astype** для приведения типа или изменения типа данных этого столбца на **int64**, чтобы этот столбец можно было использовать для вычислений и визуализаций:"
      ]
    },
    {
      "cell_type": "code",
      "metadata": {
        "id": "Y0GR4N_QRYlY"
      },
      "source": [
        "df['Worldwide gross']=df['Worldwide gross'].astype('int64')"
      ],
      "execution_count": 55,
      "outputs": []
    },
    {
      "cell_type": "markdown",
      "metadata": {
        "id": "2cyNPLLcRcah"
      },
      "source": [
        "check:"
      ]
    },
    {
      "cell_type": "code",
      "metadata": {
        "id": "6QowMMUPRdhg",
        "colab": {
          "base_uri": "https://localhost:8080/"
        },
        "outputId": "fcb5bd76-abd8-4dec-e1d7-1d843bdda758"
      },
      "source": [
        "df.info()"
      ],
      "execution_count": 59,
      "outputs": [
        {
          "output_type": "stream",
          "text": [
            "<class 'pandas.core.frame.DataFrame'>\n",
            "RangeIndex: 50 entries, 0 to 49\n",
            "Data columns (total 6 columns):\n",
            " #   Column           Non-Null Count  Dtype \n",
            "---  ------           --------------  ----- \n",
            " 0   Film             50 non-null     object\n",
            " 1   Worldwide gross  50 non-null     int64 \n",
            " 2   Year             50 non-null     int64 \n",
            " 3   Superhero(es)    50 non-null     object\n",
            " 4   Source           50 non-null     object\n",
            " 5   Ref              50 non-null     object\n",
            "dtypes: int64(2), object(4)\n",
            "memory usage: 2.5+ KB\n"
          ],
          "name": "stdout"
        }
      ]
    },
    {
      "cell_type": "code",
      "metadata": {
        "colab": {
          "base_uri": "https://localhost:8080/"
        },
        "id": "skjLHdkXNBG4",
        "outputId": "964cc804-d956-466d-c68e-1150be21fd1a"
      },
      "source": [
        "df['Worldwide gross'].head(5)"
      ],
      "execution_count": 60,
      "outputs": [
        {
          "output_type": "execute_result",
          "data": {
            "text/plain": [
              "0    2797800564\n",
              "1    2048359754\n",
              "2    1518812988\n",
              "3    1405403694\n",
              "4    1346913171\n",
              "Name: Worldwide gross, dtype: int64"
            ]
          },
          "metadata": {
            "tags": []
          },
          "execution_count": 60
        }
      ]
    },
    {
      "cell_type": "code",
      "metadata": {
        "colab": {
          "base_uri": "https://localhost:8080/",
          "height": 1000
        },
        "id": "JhN5jdP4OM3h",
        "outputId": "9a301880-5c63-454f-a961-3451121b0db4"
      },
      "source": [
        "df"
      ],
      "execution_count": 62,
      "outputs": [
        {
          "output_type": "execute_result",
          "data": {
            "text/html": [
              "<div>\n",
              "<style scoped>\n",
              "    .dataframe tbody tr th:only-of-type {\n",
              "        vertical-align: middle;\n",
              "    }\n",
              "\n",
              "    .dataframe tbody tr th {\n",
              "        vertical-align: top;\n",
              "    }\n",
              "\n",
              "    .dataframe thead th {\n",
              "        text-align: right;\n",
              "    }\n",
              "</style>\n",
              "<table border=\"1\" class=\"dataframe\">\n",
              "  <thead>\n",
              "    <tr style=\"text-align: right;\">\n",
              "      <th></th>\n",
              "      <th>Film</th>\n",
              "      <th>Worldwide gross</th>\n",
              "      <th>Year</th>\n",
              "      <th>Superhero(es)</th>\n",
              "      <th>Source</th>\n",
              "      <th>Ref</th>\n",
              "    </tr>\n",
              "  </thead>\n",
              "  <tbody>\n",
              "    <tr>\n",
              "      <th>0</th>\n",
              "      <td>Avengers: Endgame</td>\n",
              "      <td>2797800564</td>\n",
              "      <td>2019</td>\n",
              "      <td>Avengers</td>\n",
              "      <td>Marvel</td>\n",
              "      <td>[1]</td>\n",
              "    </tr>\n",
              "    <tr>\n",
              "      <th>1</th>\n",
              "      <td>Avengers: Infinity War</td>\n",
              "      <td>2048359754</td>\n",
              "      <td>2018</td>\n",
              "      <td>Avengers</td>\n",
              "      <td>Marvel</td>\n",
              "      <td>[2]</td>\n",
              "    </tr>\n",
              "    <tr>\n",
              "      <th>2</th>\n",
              "      <td>The Avengers</td>\n",
              "      <td>1518812988</td>\n",
              "      <td>2012</td>\n",
              "      <td>Avengers</td>\n",
              "      <td>Marvel</td>\n",
              "      <td>[3]</td>\n",
              "    </tr>\n",
              "    <tr>\n",
              "      <th>3</th>\n",
              "      <td>Avengers: Age of Ultron</td>\n",
              "      <td>1405403694</td>\n",
              "      <td>2015</td>\n",
              "      <td>Avengers</td>\n",
              "      <td>Marvel</td>\n",
              "      <td>[4]</td>\n",
              "    </tr>\n",
              "    <tr>\n",
              "      <th>4</th>\n",
              "      <td>Black Panther</td>\n",
              "      <td>1346913171</td>\n",
              "      <td>2018</td>\n",
              "      <td>Black Panther</td>\n",
              "      <td>Marvel</td>\n",
              "      <td>[5]</td>\n",
              "    </tr>\n",
              "    <tr>\n",
              "      <th>5</th>\n",
              "      <td>Incredibles 2</td>\n",
              "      <td>1242805359</td>\n",
              "      <td>2018</td>\n",
              "      <td>The Incredibles</td>\n",
              "      <td>Pixar</td>\n",
              "      <td>[6]</td>\n",
              "    </tr>\n",
              "    <tr>\n",
              "      <th>6</th>\n",
              "      <td>Iron Man 3</td>\n",
              "      <td>1214811252</td>\n",
              "      <td>2013</td>\n",
              "      <td>Iron Man</td>\n",
              "      <td>Marvel</td>\n",
              "      <td>[7]</td>\n",
              "    </tr>\n",
              "    <tr>\n",
              "      <th>7</th>\n",
              "      <td>Captain America: Civil War</td>\n",
              "      <td>1153304495</td>\n",
              "      <td>2016</td>\n",
              "      <td>Captain America</td>\n",
              "      <td>Marvel</td>\n",
              "      <td>[8]</td>\n",
              "    </tr>\n",
              "    <tr>\n",
              "      <th>8</th>\n",
              "      <td>Aquaman</td>\n",
              "      <td>1148161807</td>\n",
              "      <td>2018</td>\n",
              "      <td>Aquaman</td>\n",
              "      <td>DC</td>\n",
              "      <td>[9]</td>\n",
              "    </tr>\n",
              "    <tr>\n",
              "      <th>9</th>\n",
              "      <td>Spider-Man: Far From Home</td>\n",
              "      <td>1131927996</td>\n",
              "      <td>2019</td>\n",
              "      <td>Spider-Man</td>\n",
              "      <td>Marvel</td>\n",
              "      <td>[10]</td>\n",
              "    </tr>\n",
              "    <tr>\n",
              "      <th>10</th>\n",
              "      <td>Captain Marvel</td>\n",
              "      <td>1128274794</td>\n",
              "      <td>2019</td>\n",
              "      <td>Captain Marvel</td>\n",
              "      <td>Marvel</td>\n",
              "      <td>[11]</td>\n",
              "    </tr>\n",
              "    <tr>\n",
              "      <th>11</th>\n",
              "      <td>The Dark Knight Rises</td>\n",
              "      <td>1081041287</td>\n",
              "      <td>2012</td>\n",
              "      <td>Batman</td>\n",
              "      <td>DC</td>\n",
              "      <td>[12]</td>\n",
              "    </tr>\n",
              "    <tr>\n",
              "      <th>12</th>\n",
              "      <td>Joker</td>\n",
              "      <td>1074251311</td>\n",
              "      <td>2019</td>\n",
              "      <td>Joker</td>\n",
              "      <td>DC</td>\n",
              "      <td>[13]</td>\n",
              "    </tr>\n",
              "    <tr>\n",
              "      <th>13</th>\n",
              "      <td>The Dark Knight</td>\n",
              "      <td>1004558444</td>\n",
              "      <td>2008</td>\n",
              "      <td>Batman</td>\n",
              "      <td>DC</td>\n",
              "      <td>[14]</td>\n",
              "    </tr>\n",
              "    <tr>\n",
              "      <th>14</th>\n",
              "      <td>Spider-Man 3</td>\n",
              "      <td>890871626</td>\n",
              "      <td>2007</td>\n",
              "      <td>Spider-Man</td>\n",
              "      <td>Marvel</td>\n",
              "      <td>[15]</td>\n",
              "    </tr>\n",
              "    <tr>\n",
              "      <th>15</th>\n",
              "      <td>Spider-Man: Homecoming</td>\n",
              "      <td>880166924</td>\n",
              "      <td>2017</td>\n",
              "      <td>Spider-Man</td>\n",
              "      <td>Marvel</td>\n",
              "      <td>[16]</td>\n",
              "    </tr>\n",
              "    <tr>\n",
              "      <th>16</th>\n",
              "      <td>Batman v Superman: Dawn of Justice</td>\n",
              "      <td>873634919</td>\n",
              "      <td>2016</td>\n",
              "      <td>Batman and Superman</td>\n",
              "      <td>DC</td>\n",
              "      <td>[17]</td>\n",
              "    </tr>\n",
              "    <tr>\n",
              "      <th>17</th>\n",
              "      <td>Guardians of the Galaxy Vol. 2</td>\n",
              "      <td>863756051</td>\n",
              "      <td>2017</td>\n",
              "      <td>Guardians of the Galaxy</td>\n",
              "      <td>Marvel</td>\n",
              "      <td>[18]</td>\n",
              "    </tr>\n",
              "    <tr>\n",
              "      <th>18</th>\n",
              "      <td>Venom</td>\n",
              "      <td>856085151</td>\n",
              "      <td>2018</td>\n",
              "      <td>Venom</td>\n",
              "      <td>Marvel</td>\n",
              "      <td>[19]</td>\n",
              "    </tr>\n",
              "    <tr>\n",
              "      <th>19</th>\n",
              "      <td>Thor: Ragnarok</td>\n",
              "      <td>853977126</td>\n",
              "      <td>2017</td>\n",
              "      <td>Thor</td>\n",
              "      <td>Marvel</td>\n",
              "      <td>[20]</td>\n",
              "    </tr>\n",
              "    <tr>\n",
              "      <th>20</th>\n",
              "      <td>Wonder Woman</td>\n",
              "      <td>821847012</td>\n",
              "      <td>2017</td>\n",
              "      <td>Wonder Woman</td>\n",
              "      <td>DC</td>\n",
              "      <td>[21]</td>\n",
              "    </tr>\n",
              "    <tr>\n",
              "      <th>21</th>\n",
              "      <td>Spider-Man</td>\n",
              "      <td>821708551</td>\n",
              "      <td>2002</td>\n",
              "      <td>Spider-Man</td>\n",
              "      <td>Marvel</td>\n",
              "      <td>[22]</td>\n",
              "    </tr>\n",
              "    <tr>\n",
              "      <th>22</th>\n",
              "      <td>Spider-Man 2</td>\n",
              "      <td>788976453</td>\n",
              "      <td>2004</td>\n",
              "      <td>Spider-Man</td>\n",
              "      <td>Marvel</td>\n",
              "      <td>[23]</td>\n",
              "    </tr>\n",
              "    <tr>\n",
              "      <th>23</th>\n",
              "      <td>Deadpool 2</td>\n",
              "      <td>785046920</td>\n",
              "      <td>2018</td>\n",
              "      <td>Deadpool</td>\n",
              "      <td>Marvel</td>\n",
              "      <td>[24]</td>\n",
              "    </tr>\n",
              "    <tr>\n",
              "      <th>24</th>\n",
              "      <td>Deadpool</td>\n",
              "      <td>783112979</td>\n",
              "      <td>2016</td>\n",
              "      <td>Deadpool</td>\n",
              "      <td>Marvel</td>\n",
              "      <td>[25]</td>\n",
              "    </tr>\n",
              "    <tr>\n",
              "      <th>25</th>\n",
              "      <td>Guardians of the Galaxy</td>\n",
              "      <td>773328629</td>\n",
              "      <td>2014</td>\n",
              "      <td>Guardians of the Galaxy</td>\n",
              "      <td>Marvel</td>\n",
              "      <td>[26]</td>\n",
              "    </tr>\n",
              "    <tr>\n",
              "      <th>26</th>\n",
              "      <td>The Amazing Spider-Man</td>\n",
              "      <td>757930663</td>\n",
              "      <td>2012</td>\n",
              "      <td>Spider-Man</td>\n",
              "      <td>Marvel</td>\n",
              "      <td>[27]</td>\n",
              "    </tr>\n",
              "    <tr>\n",
              "      <th>27</th>\n",
              "      <td>X-Men: Days of Future Past</td>\n",
              "      <td>747862775</td>\n",
              "      <td>2014</td>\n",
              "      <td>X-Men</td>\n",
              "      <td>Marvel</td>\n",
              "      <td>[28]</td>\n",
              "    </tr>\n",
              "    <tr>\n",
              "      <th>28</th>\n",
              "      <td>Suicide Squad</td>\n",
              "      <td>746846894</td>\n",
              "      <td>2016</td>\n",
              "      <td>Suicide Squad</td>\n",
              "      <td>DC</td>\n",
              "      <td>[29]</td>\n",
              "    </tr>\n",
              "    <tr>\n",
              "      <th>29</th>\n",
              "      <td>The Matrix Reloaded</td>\n",
              "      <td>739412035</td>\n",
              "      <td>2003</td>\n",
              "      <td>Neo</td>\n",
              "      <td>Warner</td>\n",
              "      <td>[30][31]</td>\n",
              "    </tr>\n",
              "    <tr>\n",
              "      <th>30</th>\n",
              "      <td>Captain America: The Winter Soldier</td>\n",
              "      <td>714421503</td>\n",
              "      <td>2014</td>\n",
              "      <td>Captain America</td>\n",
              "      <td>Marvel</td>\n",
              "      <td>[32]</td>\n",
              "    </tr>\n",
              "    <tr>\n",
              "      <th>31</th>\n",
              "      <td>The Amazing Spider-Man 2</td>\n",
              "      <td>708982323</td>\n",
              "      <td>2014</td>\n",
              "      <td>Spider-Man</td>\n",
              "      <td>Marvel</td>\n",
              "      <td>[33]</td>\n",
              "    </tr>\n",
              "    <tr>\n",
              "      <th>32</th>\n",
              "      <td>Doctor Strange</td>\n",
              "      <td>677718395</td>\n",
              "      <td>2016</td>\n",
              "      <td>Doctor Strange</td>\n",
              "      <td>Marvel</td>\n",
              "      <td>[34]</td>\n",
              "    </tr>\n",
              "    <tr>\n",
              "      <th>33</th>\n",
              "      <td>Man of Steel</td>\n",
              "      <td>668045518</td>\n",
              "      <td>2013</td>\n",
              "      <td>Superman</td>\n",
              "      <td>DC</td>\n",
              "      <td>[35]</td>\n",
              "    </tr>\n",
              "    <tr>\n",
              "      <th>34</th>\n",
              "      <td>Justice League</td>\n",
              "      <td>657924295</td>\n",
              "      <td>2017</td>\n",
              "      <td>Justice League</td>\n",
              "      <td>DC</td>\n",
              "      <td>[36]</td>\n",
              "    </tr>\n",
              "    <tr>\n",
              "      <th>35</th>\n",
              "      <td>Big Hero 6</td>\n",
              "      <td>657818612</td>\n",
              "      <td>2014</td>\n",
              "      <td>Big Hero 6</td>\n",
              "      <td>Marvel</td>\n",
              "      <td>[37]</td>\n",
              "    </tr>\n",
              "    <tr>\n",
              "      <th>36</th>\n",
              "      <td>Thor: The Dark World</td>\n",
              "      <td>644571402</td>\n",
              "      <td>2013</td>\n",
              "      <td>Thor</td>\n",
              "      <td>Marvel</td>\n",
              "      <td>[38]</td>\n",
              "    </tr>\n",
              "    <tr>\n",
              "      <th>37</th>\n",
              "      <td>The Incredibles</td>\n",
              "      <td>633019734</td>\n",
              "      <td>2004</td>\n",
              "      <td>The Incredibles</td>\n",
              "      <td>Pixar</td>\n",
              "      <td>[39]</td>\n",
              "    </tr>\n",
              "    <tr>\n",
              "      <th>38</th>\n",
              "      <td>Hancock</td>\n",
              "      <td>624386746</td>\n",
              "      <td>2008</td>\n",
              "      <td>Hancock</td>\n",
              "      <td>Vincent Ngo</td>\n",
              "      <td>[40]</td>\n",
              "    </tr>\n",
              "    <tr>\n",
              "      <th>39</th>\n",
              "      <td>Iron Man 2</td>\n",
              "      <td>623933331</td>\n",
              "      <td>2010</td>\n",
              "      <td>Iron Man</td>\n",
              "      <td>Marvel</td>\n",
              "      <td>[41]</td>\n",
              "    </tr>\n",
              "    <tr>\n",
              "      <th>40</th>\n",
              "      <td>Ant-Man and the Wasp</td>\n",
              "      <td>622674139</td>\n",
              "      <td>2018</td>\n",
              "      <td>Ant-Man and Wasp</td>\n",
              "      <td>Marvel</td>\n",
              "      <td>[42]</td>\n",
              "    </tr>\n",
              "    <tr>\n",
              "      <th>41</th>\n",
              "      <td>Logan</td>\n",
              "      <td>619021436</td>\n",
              "      <td>2017</td>\n",
              "      <td>Wolverine</td>\n",
              "      <td>Marvel</td>\n",
              "      <td>[43]</td>\n",
              "    </tr>\n",
              "    <tr>\n",
              "      <th>42</th>\n",
              "      <td>Iron Man</td>\n",
              "      <td>585174222</td>\n",
              "      <td>2008</td>\n",
              "      <td>Iron Man</td>\n",
              "      <td>Marvel</td>\n",
              "      <td>[44]</td>\n",
              "    </tr>\n",
              "    <tr>\n",
              "      <th>43</th>\n",
              "      <td>X-Men: Apocalypse</td>\n",
              "      <td>543934787</td>\n",
              "      <td>2016</td>\n",
              "      <td>X-Men</td>\n",
              "      <td>Marvel</td>\n",
              "      <td>[45]</td>\n",
              "    </tr>\n",
              "    <tr>\n",
              "      <th>44</th>\n",
              "      <td>Godzilla</td>\n",
              "      <td>529076069</td>\n",
              "      <td>2014</td>\n",
              "      <td>Godzilla</td>\n",
              "      <td>Toho</td>\n",
              "      <td>[46][47]</td>\n",
              "    </tr>\n",
              "    <tr>\n",
              "      <th>45</th>\n",
              "      <td>Ant-Man</td>\n",
              "      <td>519311965</td>\n",
              "      <td>2015</td>\n",
              "      <td>Ant-Man</td>\n",
              "      <td>Marvel</td>\n",
              "      <td>[48]</td>\n",
              "    </tr>\n",
              "    <tr>\n",
              "      <th>46</th>\n",
              "      <td>Teenage Mutant Ninja Turtles</td>\n",
              "      <td>493333584</td>\n",
              "      <td>2014</td>\n",
              "      <td>Teenage Mutant Ninja Turtles</td>\n",
              "      <td>Mirage</td>\n",
              "      <td>[49]</td>\n",
              "    </tr>\n",
              "    <tr>\n",
              "      <th>47</th>\n",
              "      <td>The Matrix</td>\n",
              "      <td>465343787</td>\n",
              "      <td>1999</td>\n",
              "      <td>Neo</td>\n",
              "      <td>Warner</td>\n",
              "      <td>[50][51]</td>\n",
              "    </tr>\n",
              "    <tr>\n",
              "      <th>48</th>\n",
              "      <td>X-Men: The Last Stand</td>\n",
              "      <td>459359555</td>\n",
              "      <td>2006</td>\n",
              "      <td>X-Men</td>\n",
              "      <td>Marvel</td>\n",
              "      <td>[52]</td>\n",
              "    </tr>\n",
              "    <tr>\n",
              "      <th>49</th>\n",
              "      <td>Thor</td>\n",
              "      <td>449326618</td>\n",
              "      <td>2011</td>\n",
              "      <td>Thor</td>\n",
              "      <td>Marvel</td>\n",
              "      <td>[53]</td>\n",
              "    </tr>\n",
              "  </tbody>\n",
              "</table>\n",
              "</div>"
            ],
            "text/plain": [
              "                                   Film  Worldwide gross  ...       Source       Ref\n",
              "0                     Avengers: Endgame       2797800564  ...       Marvel       [1]\n",
              "1                Avengers: Infinity War       2048359754  ...       Marvel       [2]\n",
              "2                          The Avengers       1518812988  ...       Marvel       [3]\n",
              "3               Avengers: Age of Ultron       1405403694  ...       Marvel       [4]\n",
              "4                         Black Panther       1346913171  ...       Marvel       [5]\n",
              "5                         Incredibles 2       1242805359  ...        Pixar       [6]\n",
              "6                            Iron Man 3       1214811252  ...       Marvel       [7]\n",
              "7            Captain America: Civil War       1153304495  ...       Marvel       [8]\n",
              "8                               Aquaman       1148161807  ...           DC       [9]\n",
              "9             Spider-Man: Far From Home       1131927996  ...       Marvel      [10]\n",
              "10                       Captain Marvel       1128274794  ...       Marvel      [11]\n",
              "11                The Dark Knight Rises       1081041287  ...           DC      [12]\n",
              "12                                Joker       1074251311  ...           DC      [13]\n",
              "13                      The Dark Knight       1004558444  ...           DC      [14]\n",
              "14                         Spider-Man 3        890871626  ...       Marvel      [15]\n",
              "15               Spider-Man: Homecoming        880166924  ...       Marvel      [16]\n",
              "16   Batman v Superman: Dawn of Justice        873634919  ...           DC      [17]\n",
              "17       Guardians of the Galaxy Vol. 2        863756051  ...       Marvel      [18]\n",
              "18                                Venom        856085151  ...       Marvel      [19]\n",
              "19                       Thor: Ragnarok        853977126  ...       Marvel      [20]\n",
              "20                         Wonder Woman        821847012  ...           DC      [21]\n",
              "21                           Spider-Man        821708551  ...       Marvel      [22]\n",
              "22                         Spider-Man 2        788976453  ...       Marvel      [23]\n",
              "23                           Deadpool 2        785046920  ...       Marvel      [24]\n",
              "24                             Deadpool        783112979  ...       Marvel      [25]\n",
              "25              Guardians of the Galaxy        773328629  ...       Marvel      [26]\n",
              "26               The Amazing Spider-Man        757930663  ...       Marvel      [27]\n",
              "27           X-Men: Days of Future Past        747862775  ...       Marvel      [28]\n",
              "28                        Suicide Squad        746846894  ...           DC      [29]\n",
              "29                  The Matrix Reloaded        739412035  ...       Warner  [30][31]\n",
              "30  Captain America: The Winter Soldier        714421503  ...       Marvel      [32]\n",
              "31             The Amazing Spider-Man 2        708982323  ...       Marvel      [33]\n",
              "32                       Doctor Strange        677718395  ...       Marvel      [34]\n",
              "33                         Man of Steel        668045518  ...           DC      [35]\n",
              "34                       Justice League        657924295  ...           DC      [36]\n",
              "35                           Big Hero 6        657818612  ...       Marvel      [37]\n",
              "36                 Thor: The Dark World        644571402  ...       Marvel      [38]\n",
              "37                      The Incredibles        633019734  ...        Pixar      [39]\n",
              "38                              Hancock        624386746  ...  Vincent Ngo      [40]\n",
              "39                           Iron Man 2        623933331  ...       Marvel      [41]\n",
              "40                 Ant-Man and the Wasp        622674139  ...       Marvel      [42]\n",
              "41                                Logan        619021436  ...       Marvel      [43]\n",
              "42                             Iron Man        585174222  ...       Marvel      [44]\n",
              "43                    X-Men: Apocalypse        543934787  ...       Marvel      [45]\n",
              "44                             Godzilla        529076069  ...         Toho  [46][47]\n",
              "45                              Ant-Man        519311965  ...       Marvel      [48]\n",
              "46         Teenage Mutant Ninja Turtles        493333584  ...       Mirage      [49]\n",
              "47                           The Matrix        465343787  ...       Warner  [50][51]\n",
              "48                X-Men: The Last Stand        459359555  ...       Marvel      [52]\n",
              "49                                 Thor        449326618  ...       Marvel      [53]\n",
              "\n",
              "[50 rows x 6 columns]"
            ]
          },
          "metadata": {
            "tags": []
          },
          "execution_count": 62
        }
      ]
    },
    {
      "cell_type": "code",
      "metadata": {
        "colab": {
          "base_uri": "https://localhost:8080/"
        },
        "id": "9W0rxoc1Oik3",
        "outputId": "e166072f-72e9-4414-c644-cc6f8ac85ee1"
      },
      "source": [
        "df.info()\n"
      ],
      "execution_count": 73,
      "outputs": [
        {
          "output_type": "stream",
          "text": [
            "<class 'pandas.core.frame.DataFrame'>\n",
            "RangeIndex: 50 entries, 0 to 49\n",
            "Data columns (total 6 columns):\n",
            " #   Column           Non-Null Count  Dtype \n",
            "---  ------           --------------  ----- \n",
            " 0   Film             50 non-null     object\n",
            " 1   Worldwide gross  50 non-null     int64 \n",
            " 2   Year             50 non-null     int64 \n",
            " 3   Superhero(es)    50 non-null     object\n",
            " 4   Source           50 non-null     object\n",
            " 5   Ref              50 non-null     object\n",
            "dtypes: int64(2), object(4)\n",
            "memory usage: 2.5+ KB\n"
          ],
          "name": "stdout"
        }
      ]
    },
    {
      "cell_type": "markdown",
      "metadata": {
        "id": "NiUEGB2gSM6M"
      },
      "source": [
        "# **Шаг 3: Визуализация**"
      ]
    },
    {
      "cell_type": "markdown",
      "metadata": {
        "id": "q_2vjlbpSRLP"
      },
      "source": [
        " сначала мы создаем еще один DataFrame (df1), который содержит подмножество\n",
        "столбцов, которые содержат исходный DataFrame (df). Этот DataFrame, df1, содержит всего два столбцы - «Фильм» (название фильма) и «Gross» (Выручка). Затем мы сортируем значения выручки в порядке убывания. "
      ]
    },
    {
      "cell_type": "code",
      "metadata": {
        "id": "pEA66lJ6Srxa"
      },
      "source": [
        "df1=df[['Film','Worldwide gross']].sort_values(ascending=False,by='Worldwide gross')"
      ],
      "execution_count": 74,
      "outputs": []
    },
    {
      "cell_type": "markdown",
      "metadata": {
        "id": "jZ3hTCrHS4P3"
      },
      "source": [
        "В этот DataFrame добавляется нежелательный столбец («index»)"
      ]
    },
    {
      "cell_type": "code",
      "metadata": {
        "id": "2Z68RG5oS8kE"
      },
      "source": [
        "#df1.drop(['index'],axis=1,inplace=True)"
      ],
      "execution_count": 75,
      "outputs": []
    },
    {
      "cell_type": "code",
      "metadata": {
        "id": "u3qCrwtuTLU6",
        "colab": {
          "base_uri": "https://localhost:8080/",
          "height": 457
        },
        "outputId": "aef79a31-93eb-4eb7-dce2-643006da0a2e"
      },
      "source": [
        "#Plotting the top 5 films by revenue\n",
        "#setting the figure size\n",
        "plt.figure(figsize=(10,5))\n",
        "#creating a bar plot\n",
        "ax=sns.barplot(x='Film',y='Worldwide gross',data=df1.head(5))\n",
        "#rotating the x axis labels\n",
        "ax.set_xticklabels(labels=df1.head()['Film'],rotation=75)\n",
        "#setting the title\n",
        "ax.set_title(\"Top 5 Films per revenue\")\n",
        "#setting the Y-axis labels\n",
        "ax.set_ylabel(\"Worldwide gross revenue\")\n",
        "#Labelling the bars in the bar graph\n",
        "for p in ax.patches:\n",
        "  ax.annotate(p.get_height(),(p.get_x()+p.get_width()/2,p.get_height()),ha='center',va='bottom')"
      ],
      "execution_count": 76,
      "outputs": [
        {
          "output_type": "display_data",
          "data": {
            "image/png": "[encoded data removed]",
            "text/plain": [
              "<Figure size 720x360 with 1 Axes>"
            ]
          },
          "metadata": {
            "tags": [],
            "needs_background": "light"
          }
        }
      ]
    },
    {
      "cell_type": "markdown",
      "metadata": {
        "id": "UdYoKFT-T_OX"
      },
      "source": [
        "Чтобы отобразить долю десяти лучших фильмов (по выручке), мы создаем круговую диаграмму."
      ]
    },
    {
      "cell_type": "code",
      "metadata": {
        "id": "K9YQypn8T2PJ",
        "colab": {
          "base_uri": "https://localhost:8080/",
          "height": 321
        },
        "outputId": "33a1214e-afa6-43c0-b3b1-04edd65e2f60"
      },
      "source": [
        "df1['Worldwide gross'].head(10).plot(kind='pie',autopct='%.2f%%',labels=df1['Film'],\n",
        "figsize=(10,5))"
      ],
      "execution_count": 77,
      "outputs": [
        {
          "output_type": "execute_result",
          "data": {
            "text/plain": [
              "<matplotlib.axes._subplots.AxesSubplot at 0x7f4408819f10>"
            ]
          },
          "metadata": {
            "tags": []
          },
          "execution_count": 77
        },
        {
          "output_type": "display_data",
          "data": {
            "image/png": "[encoded data removed]",
            "text/plain": [
              "<Figure size 720x360 with 1 Axes>"
            ]
          },
          "metadata": {
            "tags": []
          }
        }
      ]
    },
    {
      "cell_type": "markdown",
      "metadata": {
        "id": "2l-4y9JCUJ3A"
      },
      "source": [
        "Сначала мы создаем еще один DataFrame, который собирает данные за месяц, вычисляя в среднем за каждый месяц"
      ]
    },
    {
      "cell_type": "code",
      "metadata": {
        "id": "0CaQqkDMUM-l",
        "colab": {
          "base_uri": "https://localhost:8080/",
          "height": 634
        },
        "outputId": "2a00a538-5553-4d81-d39d-cee81bab8a77"
      },
      "source": [
        "#Aggregating the revenues by month\n",
        "df2=df.groupby('Year')['Worldwide gross'].mean()\n",
        "#creating a line plot\n",
        "df2.plot(kind='line',figsize=(10,10))"
      ],
      "execution_count": 72,
      "outputs": [
        {
          "output_type": "execute_result",
          "data": {
            "text/plain": [
              "<matplotlib.axes._subplots.AxesSubplot at 0x7f44088c47d0>"
            ]
          },
          "metadata": {
            "tags": []
          },
          "execution_count": 72
        },
        {
          "output_type": "display_data",
          "data": {
            "image/png": "[encoded data removed]",
            "text/plain": [
              "<Figure size 720x720 with 1 Axes>"
            ]
          },
          "metadata": {
            "tags": [],
            "needs_background": "light"
          }
        }
      ]
    },
    {
      "cell_type": "markdown",
      "metadata": {
        "id": "x77ZQchmeeXm"
      },
      "source": [
        "Вывод: Самым кассовым фильмом стал \"Avengers: Endgame\""
      ]
    }
  ]
}