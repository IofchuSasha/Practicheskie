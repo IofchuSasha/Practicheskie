{
  "nbformat": 4,
  "nbformat_minor": 0,
  "metadata": {
    "kernelspec": {
      "display_name": "Python 3",
      "language": "python",
      "name": "python3"
    },
    "language_info": {
      "name": "python",
      "version": "3.7.9",
      "mimetype": "text/x-python",
      "codemirror_mode": {
        "name": "ipython",
        "version": 3
      },
      "pygments_lexer": "ipython3",
      "nbconvert_exporter": "python",
      "file_extension": ".py"
    },
    "colab": {
      "name": "Копия блокнота \"пример Вариант 1 Создание, редактирование и запись в датафрейм.ipynb\"",
      "provenance": [],
      "collapsed_sections": [],
      "include_colab_link": true
    }
  },
  "cells": [
    {
      "cell_type": "markdown",
      "metadata": {
        "id": "view-in-github",
        "colab_type": "text"
      },
      "source": [
        "<a href=\"https://colab.research.google.com/github/IofchuSasha/Practicheskie/blob/02%2F04/%D0%9A%D0%BE%D0%BF%D0%B8%D1%8F_%D0%B1%D0%BB%D0%BE%D0%BA%D0%BD%D0%BE%D1%82%D0%B0_%22%D0%BF%D1%80%D0%B8%D0%BC%D0%B5%D1%80_%D0%92%D0%B0%D1%80%D0%B8%D0%B0%D0%BD%D1%82_1_%D0%A1%D0%BE%D0%B7%D0%B4%D0%B0%D0%BD%D0%B8%D0%B5%2C_%D1%80%D0%B5%D0%B4%D0%B0%D0%BA%D1%82%D0%B8%D1%80%D0%BE%D0%B2%D0%B0%D0%BD%D0%B8%D0%B5_%D0%B8_%D0%B7%D0%B0%D0%BF%D0%B8%D1%81%D1%8C_%D0%B2_%D0%B4%D0%B0%D1%82%D0%B0%D1%84%D1%80%D0%B5%D0%B9%D0%BC_ipynb%22.ipynb\" target=\"_parent\"><img src=\"https://colab.research.google.com/assets/colab-badge.svg\" alt=\"Open In Colab\"/></a>"
      ]
    },
    {
      "cell_type": "markdown",
      "metadata": {
        "id": "pwd4kdTbuDzl"
      },
      "source": [
        "# Введение\n",
        "\n",
        "Первым шагом в большинстве проектов по анализу данных является чтение файла данных. В этом упражнении вы создадите объекты Series и DataFrame как вручную, так и путем чтения файлов данных.\n",
        "\n",
        "Запустите ячейку кода ниже, чтобы загрузить библиотеки, которые вам понадобятся (включая код для проверки ваших ответов)."
      ]
    },
    {
      "cell_type": "code",
      "metadata": {
        "execution": {
          "iopub.status.busy": "2021-06-03T19:42:43.318459Z",
          "iopub.execute_input": "2021-06-03T19:42:43.318879Z",
          "iopub.status.idle": "2021-06-03T19:42:45.033829Z",
          "shell.execute_reply.started": "2021-06-03T19:42:43.318783Z",
          "shell.execute_reply": "2021-06-03T19:42:45.032859Z"
        },
        "trusted": true,
        "id": "Ts2PDQx9uDzn"
      },
      "source": [
        "import pandas as pd\n",
        "pd.set_option('max_rows', 5)\n",
        "print(\"Setup complete.\")"
      ],
      "execution_count": null,
      "outputs": []
    },
    {
      "cell_type": "markdown",
      "metadata": {
        "id": "GPrxqn5tuDzr"
      },
      "source": [
        "# Упражнения"
      ]
    },
    {
      "cell_type": "markdown",
      "metadata": {
        "id": "MYM1FPnnuDzt"
      },
      "source": [
        "## 1.\n",
        "\n",
        "В ячейке ниже создайте `fruits` DataFrame, которые выглядят следующим образом:\n",
        "\n",
        "![](https://i.imgur.com/Ax3pp2A.png)"
      ]
    },
    {
      "cell_type": "code",
      "metadata": {
        "execution": {
          "iopub.status.busy": "2021-06-03T19:44:10.789364Z",
          "iopub.execute_input": "2021-06-03T19:44:10.789725Z",
          "iopub.status.idle": "2021-06-03T19:44:10.811603Z",
          "shell.execute_reply.started": "2021-06-03T19:44:10.789694Z",
          "shell.execute_reply": "2021-06-03T19:44:10.810104Z"
        },
        "trusted": true,
        "id": "0l337N-7uDzv"
      },
      "source": [
        "# Создайте фрейм данных, соответствующий приведенной выше диаграмме, и назначьте его переменной fruits.\n",
        "fruits = "
      ],
      "execution_count": null,
      "outputs": []
    },
    {
      "cell_type": "markdown",
      "metadata": {
        "id": "6YWlMCsHuDzx"
      },
      "source": [
        "## 2.\n",
        "\n",
        "Создайте фрейм данных `fruit_sales`, который соответствует диаграмме ниже:\n",
        "\n",
        "![](https://i.imgur.com/CHPn7ZF.png)"
      ]
    },
    {
      "cell_type": "code",
      "metadata": {
        "execution": {
          "iopub.status.busy": "2021-06-03T19:47:48.008545Z",
          "iopub.execute_input": "2021-06-03T19:47:48.008960Z",
          "iopub.status.idle": "2021-06-03T19:47:48.022883Z",
          "shell.execute_reply.started": "2021-06-03T19:47:48.008914Z",
          "shell.execute_reply": "2021-06-03T19:47:48.022018Z"
        },
        "trusted": true,
        "id": "1jwiAA6buDzy"
      },
      "source": [
        "# Ваш код находится здесь. Создайте фрейм данных, соответствующий приведенной выше диаграмме, и назначьте его переменной fruit_sales.\n",
        "fruit_sales = "
      ],
      "execution_count": null,
      "outputs": []
    },
    {
      "cell_type": "markdown",
      "metadata": {
        "id": "6sUiurUmuDz1"
      },
      "source": [
        "## 3.\n",
        "\n",
        "Создайте переменные `ingredients` с помощью серии, которая выглядит так: \n",
        "\n",
        "```\n",
        "Flour     4 cups\n",
        "Milk       1 cup\n",
        "Eggs     2 large\n",
        "Spam       1 can\n",
        "Name: Dinner, dtype: object\n",
        "```"
      ]
    },
    {
      "cell_type": "code",
      "metadata": {
        "execution": {
          "iopub.status.busy": "2021-06-03T19:53:05.633182Z",
          "iopub.execute_input": "2021-06-03T19:53:05.633820Z",
          "iopub.status.idle": "2021-06-03T19:53:05.646748Z",
          "shell.execute_reply.started": "2021-06-03T19:53:05.633769Z",
          "shell.execute_reply": "2021-06-03T19:53:05.645698Z"
        },
        "trusted": true,
        "id": "GEezVV-HuDz2"
      },
      "source": [
        "ingredients = "
      ],
      "execution_count": null,
      "outputs": []
    },
    {
      "cell_type": "markdown",
      "metadata": {
        "id": "CsSGVTPUuDz4"
      },
      "source": [
        "## 4.\n",
        "\n",
        "Прочтите следующий набор данных из csv  в DataFrame в переменную `reviews`:\n",
        "\n",
        "![](https://i.imgur.com/74RCZtU.png)\n",
        "\n",
        "Путь к файлу csv: winemag-data_first150k.csv. Первые несколько строк выглядят так:\n",
        "\n",
        "```\n",
        ",country,description,designation,points,price,province,region_1,region_2,variety,winery\n",
        "0,US,\"This tremendous 100% varietal wine[...]\",Martha's Vineyard,96,235.0,California,Napa Valley,Napa,Cabernet Sauvignon,Heitz\n",
        "1,Spain,\"Ripe aromas of fig, blackberry and[...]\",Carodorum Selección Especial Reserva,96,110.0,Northern Spain,Toro,,Tinta de Toro,Bodega Carmen Rodríguez\n",
        "```"
      ]
    },
    {
      "cell_type": "code",
      "metadata": {
        "id": "H77SvIrUvbtR"
      },
      "source": [
        "# Ваш  код для загрузки файла winemag-data_first150k.csv"
      ],
      "execution_count": null,
      "outputs": []
    },
    {
      "cell_type": "code",
      "metadata": {
        "id": "OS9SOdkmgwV4"
      },
      "source": [
        "reviews1 = "
      ],
      "execution_count": null,
      "outputs": []
    },
    {
      "cell_type": "markdown",
      "metadata": {
        "id": "_6HhDkUnuDz8"
      },
      "source": [
        "## 5.\n",
        "\n",
        "Выполните код ниже, чтобы создать и отобразить DataFrame под названием `animals`:"
      ]
    },
    {
      "cell_type": "code",
      "metadata": {
        "trusted": true,
        "id": "9GwIad5fuDz-"
      },
      "source": [
        "animals = "
      ],
      "execution_count": null,
      "outputs": []
    },
    {
      "cell_type": "markdown",
      "metadata": {
        "id": "ocWQmvUfuDz_"
      },
      "source": [
        "В ячейке ниже напишите код для сохранения этого DataFrame на диск в виде CSV-файла с именем `cows_and_goats.csv`."
      ]
    },
    {
      "cell_type": "code",
      "metadata": {
        "execution": {
          "iopub.status.busy": "2021-06-03T20:04:39.800257Z",
          "iopub.execute_input": "2021-06-03T20:04:39.800766Z",
          "iopub.status.idle": "2021-06-03T20:04:39.815740Z",
          "shell.execute_reply.started": "2021-06-03T20:04:39.800731Z",
          "shell.execute_reply": "2021-06-03T20:04:39.814726Z"
        },
        "trusted": true,
        "id": "joh-yGMvuD0A"
      },
      "source": [
        "# Ваш код\n"
      ],
      "execution_count": null,
      "outputs": []
    }
  ]
}